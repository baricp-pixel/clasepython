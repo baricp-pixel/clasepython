{
  "nbformat": 4,
  "nbformat_minor": 0,
  "metadata": {
    "colab": {
      "provenance": [],
      "authorship_tag": "ABX9TyMKMhiaR38NZ7mZqPRLmJab",
      "include_colab_link": true
    },
    "kernelspec": {
      "name": "python3",
      "display_name": "Python 3"
    },
    "language_info": {
      "name": "python"
    }
  },
  "cells": [
    {
      "cell_type": "markdown",
      "metadata": {
        "id": "view-in-github",
        "colab_type": "text"
      },
      "source": [
        "<a href=\"https://colab.research.google.com/github/baricp-pixel/clasepython/blob/main/Untitled2.ipynb\" target=\"_parent\"><img src=\"https://colab.research.google.com/assets/colab-badge.svg\" alt=\"Open In Colab\"/></a>"
      ]
    },
    {
      "cell_type": "code",
      "execution_count": 7,
      "metadata": {
        "colab": {
          "base_uri": "https://localhost:8080/"
        },
        "id": "wdr-Wboj-CW9",
        "outputId": "651ca8f0-bb14-4518-d0a7-430705440246"
      },
      "outputs": [
        {
          "output_type": "stream",
          "name": "stdout",
          "text": [
            "el número es menor o igual a 10\n"
          ]
        }
      ],
      "source": [
        "numero=9\n",
        "if numero >10:\n",
        "  print ('el número es mayor a 10')\n",
        "else:\n",
        "  print('el número es menor o igual a 10')"
      ]
    },
    {
      "cell_type": "code",
      "source": [
        "11"
      ],
      "metadata": {
        "colab": {
          "base_uri": "https://localhost:8080/"
        },
        "id": "32DHVeTb_Hby",
        "outputId": "cc7620f2-0d14-4124-9e25-69b37867d001"
      },
      "execution_count": 5,
      "outputs": [
        {
          "output_type": "execute_result",
          "data": {
            "text/plain": [
              "11"
            ]
          },
          "metadata": {},
          "execution_count": 5
        }
      ]
    },
    {
      "cell_type": "code",
      "source": [
        "contador=0\n",
        "while contador <5:\n",
        "  print(\"el contador es:\", contador)\n",
        "  contador +=1"
      ],
      "metadata": {
        "colab": {
          "base_uri": "https://localhost:8080/"
        },
        "id": "8no0kKMZAZnR",
        "outputId": "f9aa0fbe-73fe-4660-ab01-c1bdb40a06e0"
      },
      "execution_count": 8,
      "outputs": [
        {
          "output_type": "stream",
          "name": "stdout",
          "text": [
            "el contador es: 0\n",
            "el contador es: 1\n",
            "el contador es: 2\n",
            "el contador es: 3\n",
            "el contador es: 4\n"
          ]
        }
      ]
    }
  ]
}